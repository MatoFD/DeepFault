{
 "cells": [
  {
   "cell_type": "code",
   "execution_count": 1,
   "metadata": {},
   "outputs": [],
   "source": [
    "import numpy as np\n",
    "from numpy.random import seed\n",
    "seed(4)\n",
    "from tensorflow import set_random_seed\n",
    "set_random_seed(26)"
   ]
  },
  {
   "cell_type": "code",
   "execution_count": 2,
   "metadata": {},
   "outputs": [
    {
     "name": "stderr",
     "output_type": "stream",
     "text": [
      "Using TensorFlow backend.\n"
     ]
    }
   ],
   "source": [
    "from os import path\n",
    "from train_mnist_nn import __save_trained_model\n",
    "from utils import load_MNIST\n",
    "from os import listdir\n",
    "import matplotlib.pyplot as plt\n",
    "from os.path import isfile, join"
   ]
  },
  {
   "cell_type": "code",
   "execution_count": 3,
   "metadata": {},
   "outputs": [],
   "source": [
    "from keras import models\n",
    "from keras.models import model_from_json"
   ]
  },
  {
   "cell_type": "code",
   "execution_count": 4,
   "metadata": {},
   "outputs": [],
   "source": [
    "MODEL_PATH = \"neural_networks\"\n",
    "MODEL_NAME = 'lenet1'\n",
    "adv_input_path = 'susp_adv_inputs'"
   ]
  },
  {
   "cell_type": "code",
   "execution_count": 5,
   "metadata": {},
   "outputs": [],
   "source": [
    "json_file = open(path.join(MODEL_PATH, MODEL_NAME) + '.json', 'r')\n",
    "loaded_model_json = json_file.read()\n",
    "json_file.close()\n",
    "\n",
    "model = model_from_json(loaded_model_json)"
   ]
  },
  {
   "cell_type": "code",
   "execution_count": 6,
   "metadata": {},
   "outputs": [],
   "source": [
    "X_train, Y_train, X_test, Y_test = load_MNIST(channel_first=False)"
   ]
  },
  {
   "cell_type": "code",
   "execution_count": 7,
   "metadata": {},
   "outputs": [],
   "source": [
    "perturbed_xs_by_class = np.load('perturbed_xs_by_class.npy')\n",
    "perturbed_ys_by_class = np.load('perturbed_ys_by_class.npy')\n",
    "a=np.concatenate(perturbed_xs_by_class)\n",
    "a=np.concatenate([a, X_train])\n",
    "b=np.concatenate(perturbed_ys_by_class)\n",
    "b=np.concatenate([b, Y_train])"
   ]
  },
  {
   "cell_type": "code",
   "execution_count": 8,
   "metadata": {},
   "outputs": [
    {
     "name": "stdout",
     "output_type": "stream",
     "text": [
      "Epoch 1/5\n",
      "60100/60100 [==============================] - 88s 1ms/step - loss: 0.2434 - acc: 0.9258\n",
      "Epoch 2/5\n",
      "60100/60100 [==============================] - 87s 1ms/step - loss: 0.0792 - acc: 0.9761\n",
      "Epoch 3/5\n",
      "60100/60100 [==============================] - 87s 1ms/step - loss: 0.0600 - acc: 0.9817\n",
      "Epoch 4/5\n",
      "60100/60100 [==============================] - 87s 1ms/step - loss: 0.0493 - acc: 0.9846\n",
      "Epoch 5/5\n",
      "60100/60100 [==============================] - 101s 2ms/step - loss: 0.0430 - acc: 0.9863\n"
     ]
    },
    {
     "data": {
      "text/plain": [
       "<keras.callbacks.History at 0xb32a18150>"
      ]
     },
     "execution_count": 8,
     "metadata": {},
     "output_type": "execute_result"
    }
   ],
   "source": [
    "model.compile(loss='categorical_crossentropy',\n",
    "                  optimizer='adam',\n",
    "                  metrics=['accuracy'])\n",
    "\n",
    "model.fit(a, b, batch_size=32, epochs=5, verbose=1)"
   ]
  },
  {
   "cell_type": "code",
   "execution_count": 9,
   "metadata": {},
   "outputs": [
    {
     "name": "stdout",
     "output_type": "stream",
     "text": [
      "10000/10000 [==============================] - 7s 681us/step\n"
     ]
    },
    {
     "data": {
      "text/plain": [
       "[0.039409537318494406, 0.9865]"
      ]
     },
     "execution_count": 9,
     "metadata": {},
     "output_type": "execute_result"
    }
   ],
   "source": [
    "model.evaluate(X_test, Y_test)"
   ]
  },
  {
   "cell_type": "code",
   "execution_count": 10,
   "metadata": {},
   "outputs": [
    {
     "name": "stdout",
     "output_type": "stream",
     "text": [
      "_________________________________________________________________\n",
      "Layer (type)                 Output Shape              Param #   \n",
      "=================================================================\n",
      "input_1 (InputLayer)         (None, 28, 28, 1)         0         \n",
      "_________________________________________________________________\n",
      "block1_conv1 (Conv2D)        (None, 28, 28, 4)         104       \n",
      "_________________________________________________________________\n",
      "block1_pool1 (MaxPooling2D)  (None, 14, 14, 4)         0         \n",
      "_________________________________________________________________\n",
      "block2_conv1 (Conv2D)        (None, 14, 14, 12)        1212      \n",
      "_________________________________________________________________\n",
      "block2_pool1 (MaxPooling2D)  (None, 7, 7, 12)          0         \n",
      "_________________________________________________________________\n",
      "flatten (Flatten)            (None, 588)               0         \n",
      "_________________________________________________________________\n",
      "softmax (Dense)              (None, 10)                5890      \n",
      "=================================================================\n",
      "Total params: 7,206\n",
      "Trainable params: 7,206\n",
      "Non-trainable params: 0\n",
      "_________________________________________________________________\n"
     ]
    }
   ],
   "source": [
    "model.summary()"
   ]
  },
  {
   "cell_type": "code",
   "execution_count": null,
   "metadata": {},
   "outputs": [],
   "source": []
  }
 ],
 "metadata": {
  "kernelspec": {
   "display_name": "tensorflow_env_27",
   "language": "python",
   "name": "tensorflow_env_27"
  },
  "language_info": {
   "codemirror_mode": {
    "name": "ipython",
    "version": 2
   },
   "file_extension": ".py",
   "mimetype": "text/x-python",
   "name": "python",
   "nbconvert_exporter": "python",
   "pygments_lexer": "ipython2",
   "version": "2.7.15"
  }
 },
 "nbformat": 4,
 "nbformat_minor": 2
}
