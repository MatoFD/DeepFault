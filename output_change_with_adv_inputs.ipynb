{
 "cells": [
  {
   "cell_type": "code",
   "execution_count": 1,
   "metadata": {},
   "outputs": [
    {
     "name": "stderr",
     "output_type": "stream",
     "text": [
      "Using TensorFlow backend.\n"
     ]
    }
   ],
   "source": [
    "from test_nn import test_model\n",
    "from lp import run_lp\n",
    "from os import path\n",
    "from spectrum_analysis import *\n",
    "from utils import save_perturbed_test_groups, load_perturbed_test_groups\n",
    "from utils import load_suspicious_neurons, save_suspicious_neurons\n",
    "from utils import create_experiment_dir, get_trainable_layers\n",
    "from utils import load_classifications, save_classifications\n",
    "from utils import save_layer_outs, load_layer_outs, construct_spectrum_matrices\n",
    "from utils import load_MNIST, load_CIFAR, load_model\n",
    "from utils import filter_val_set, save_original_inputs\n",
    "from input_synthesis import synthesize\n",
    "from sklearn.model_selection import train_test_split\n",
    "import datetime\n",
    "import argparse\n",
    "import random\n",
    "from collections import defaultdict\n",
    "import matplotlib.pyplot as plt\n",
    "from keras import models\n",
    "from utils import generate_adversarial\n",
    "from utils import get_layer_outs"
   ]
  },
  {
   "cell_type": "code",
   "execution_count": 2,
   "metadata": {},
   "outputs": [],
   "source": [
    "seed = 42\n",
    "model_path = \"neural_networks\"\n",
    "plt.rcParams[\"figure.figsize\"] = (36,18)"
   ]
  },
  {
   "cell_type": "code",
   "execution_count": 3,
   "metadata": {},
   "outputs": [],
   "source": [
    "def exp(X, Y, model_name, actual_class, susp_num, adversarial_algo):\n",
    "    X, Y = filter_val_set(actual_class, X, Y)\n",
    "    model = load_model(path.join(model_path, model_name))\n",
    "    \n",
    "    correct_classifications, misclassifications, layer_outs, predictions = test_model(model, X, Y)\n",
    "    \n",
    "    trainable_layers = get_trainable_layers(model)\n",
    "    scores, num_cf, num_uf, num_cs, num_us = construct_spectrum_matrices(model,\n",
    "                                                                        trainable_layers,\n",
    "                                                                        correct_classifications,\n",
    "                                                                        misclassifications,\n",
    "                                                                        layer_outs)\n",
    "    \n",
    "    suspicious_neuron_idx = tarantula_analysis(trainable_layers, scores,\n",
    "                                                 num_cf, num_uf, num_cs, num_us,\n",
    "                                                 susp_num)\n",
    "    \n",
    "    if adversarial_algo is 'fgsm':\n",
    "        advs = generate_adversarial(X[correct_classifications], adversarial_algo, model, multi=True, eps=0.05)        \n",
    "    else:\n",
    "        advs = generate_adversarial(X[correct_classifications], adversarial_algo, model, multi=True)\n",
    "    \n",
    "    new_layer_outs = get_layer_outs(model, advs)\n",
    "    \n",
    "    avg_changes_by_layer = {}\n",
    "    avg_changes = {}\n",
    "    \n",
    "    for layer_index in trainable_layers:\n",
    "        avg_changes_by_layer[layer_index] = np.mean(new_layer_outs[layer_index][0] - layer_outs[layer_index][0][correct_classifications], axis=0)\n",
    "    \n",
    "    for layer_index in trainable_layers:\n",
    "        for neuron_index in range(avg_changes_by_layer[layer_index].shape[-1]):\n",
    "            avg_changes[(layer_index, neuron_index)] = avg_changes_by_layer[layer_index][neuron_index]\n",
    "    \n",
    "    # layer_outs, new_layer_outs\n",
    "    return [ (trainable_layers[layer], neuron) for (layer, neuron) in suspicious_neuron_idx ], correct_classifications, misclassifications, layer_outs, new_layer_outs, avg_changes"
   ]
  },
  {
   "cell_type": "code",
   "execution_count": 4,
   "metadata": {},
   "outputs": [],
   "source": [
    "X_train, Y_train, X_test, Y_test = load_MNIST()\n",
    "\n",
    "X_train, X_val, Y_train, Y_val = train_test_split(X_train, Y_train,\n",
    "                                                  test_size=1/6.0,\n",
    "                                                  random_state=seed)"
   ]
  },
  {
   "cell_type": "code",
   "execution_count": 14,
   "metadata": {},
   "outputs": [],
   "source": [
    "def plot_exp(model_name, adv_algo, X, Y, n, name_suffix):\n",
    "    plt.clf()\n",
    "    \n",
    "    for cl in range(1):\n",
    "        ids, correct, _, outs, new_outs, changes = exp(X, Y, model_name, cl, n, adv_algo)\n",
    "        plt.subplot(3, 4, cl + 1)\n",
    "        plt.title('Class ' + str(cl))\n",
    "        plt.scatter([str(k) for k in changes.keys()], changes.values(), c=[('r' if k in ids else 'y') for k in changes.keys()])\n",
    "        \n",
    "        for i, neuron_id in enumerate(ids):\n",
    "            plt.annotate(str(neuron_id), (str(neuron_id), changes[neuron_id]))\n",
    "            \n",
    "    plot_name = 'adv_exp_figures/' + model_name + '__' + adv_algo + '__' + str(n) + '__' + name_suffix\n",
    "    try:\n",
    "        plt.savefig(plot_name + '.pdf')        \n",
    "        plt.savefig(plot_name + '.png')        \n",
    "    except:\n",
    "        pass"
   ]
  },
  {
   "cell_type": "code",
   "execution_count": null,
   "metadata": {},
   "outputs": [],
   "source": [
    "plot_exp('mnist_test_model_5_30_relu', 'fgsm', X_train, Y_train, n=10, name_suffix='train')\n",
    "plot_exp('mnist_test_model_5_30_relu', 'fgsm', X_val, Y_val, n=10, name_suffix='validate')\n",
    "plot_exp('mnist_test_model_5_30_relu', 'fgsm', X_test, Y_test, n=10, name_suffix='test')"
   ]
  },
  {
   "cell_type": "code",
   "execution_count": null,
   "metadata": {},
   "outputs": [],
   "source": [
    "plot_exp('mnist_test_model_5_30_relu', 'jsma', X_train, Y_train, n=10, name_suffix='train')\n",
    "plot_exp('mnist_test_model_5_30_relu', 'jsma', X_val, Y_val, n=10, name_suffix='validate')\n",
    "plot_exp('mnist_test_model_5_30_relu', 'jsma', X_test, Y_test, n=10, name_suffix='test')"
   ]
  },
  {
   "cell_type": "code",
   "execution_count": null,
   "metadata": {},
   "outputs": [],
   "source": [
    "plot_exp('mnist_test_model_5_30_relu', 'cw', X_train, Y_train, n=10, name_suffix='train')\n",
    "plot_exp('mnist_test_model_5_30_relu', 'cw', X_val, Y_val, n=10, name_suffix='validate')\n",
    "plot_exp('mnist_test_model_5_30_relu', 'cw', X_test, Y_test, n=10, name_suffix='test')"
   ]
  }
 ],
 "metadata": {
  "kernelspec": {
   "display_name": "tensorflow_env_27",
   "language": "python",
   "name": "tensorflow_env_27"
  },
  "language_info": {
   "codemirror_mode": {
    "name": "ipython",
    "version": 2
   },
   "file_extension": ".py",
   "mimetype": "text/x-python",
   "name": "python",
   "nbconvert_exporter": "python",
   "pygments_lexer": "ipython2",
   "version": "2.7.15"
  }
 },
 "nbformat": 4,
 "nbformat_minor": 2
}
